{
 "cells": [
  {
   "cell_type": "markdown",
   "id": "abaeacfb",
   "metadata": {},
   "source": [
    "# Question 1: Execute Manipulating, Droping, Sorting, Aggregations, Joining, GroupeBy  DataFrames"
   ]
  },
  {
   "cell_type": "code",
   "execution_count": 5,
   "id": "8f96995e",
   "metadata": {},
   "outputs": [],
   "source": [
    "import pyspark\n",
    "import findspark\n",
    "findspark.init()\n",
    "from pyspark.sql import SparkSession"
   ]
  },
  {
   "cell_type": "code",
   "execution_count": 6,
   "id": "b88a1c6f",
   "metadata": {},
   "outputs": [],
   "source": [
    "spark=SparkSession.builder.appName('Pyspark Assessment').getOrCreate()"
   ]
  },
  {
   "cell_type": "code",
   "execution_count": 7,
   "id": "9ded41ac",
   "metadata": {},
   "outputs": [
    {
     "data": {
      "text/html": [
       "\n",
       "            <div>\n",
       "                <p><b>SparkSession - in-memory</b></p>\n",
       "                \n",
       "        <div>\n",
       "            <p><b>SparkContext</b></p>\n",
       "\n",
       "            <p><a href=\"http://192.168.1.34:4040\">Spark UI</a></p>\n",
       "\n",
       "            <dl>\n",
       "              <dt>Version</dt>\n",
       "                <dd><code>v3.5.0</code></dd>\n",
       "              <dt>Master</dt>\n",
       "                <dd><code>local[*]</code></dd>\n",
       "              <dt>AppName</dt>\n",
       "                <dd><code>Pyspark Assessment</code></dd>\n",
       "            </dl>\n",
       "        </div>\n",
       "        \n",
       "            </div>\n",
       "        "
      ],
      "text/plain": [
       "<pyspark.sql.session.SparkSession at 0x2694710a750>"
      ]
     },
     "execution_count": 7,
     "metadata": {},
     "output_type": "execute_result"
    }
   ],
   "source": [
    "spark"
   ]
  },
  {
   "cell_type": "markdown",
   "id": "f6bf450b",
   "metadata": {},
   "source": [
    "## Creating DataFrame"
   ]
  },
  {
   "cell_type": "code",
   "execution_count": 62,
   "id": "f610671f",
   "metadata": {},
   "outputs": [
    {
     "name": "stdout",
     "output_type": "stream",
     "text": [
      "+-------+----+------+----------+------+\n",
      "|   Name| Age|Gender|    Degree|Salary|\n",
      "+-------+----+------+----------+------+\n",
      "|  Rohan|  22|  Male|        IT| 10000|\n",
      "|Pranjal|  23|Female|Mechanical| 20000|\n",
      "|  Rushi|  22|  Male|     Comps| 30000|\n",
      "|  Rohit|NULL|  Male|       BBA| 40000|\n",
      "+-------+----+------+----------+------+\n",
      "\n"
     ]
    }
   ],
   "source": [
    "data = [(\"Rohan\", 22, \"Male\",\"IT\",10000),\n",
    "        (\"Pranjal\", 23, \"Female\",\"Mechanical\",20000),\n",
    "        (\"Rushi\", 22, \"Male\",\"Comps\",30000),\n",
    "        (\"Rohit\", None, \"Male\",\"BBA\",40000)]\n",
    "\n",
    "schema = [\"Name\", \"Age\", \"Gender\",\"Degree\",\"Salary\"]\n",
    "\n",
    "df = spark.createDataFrame(data, schema=schema)\n",
    "df.show()"
   ]
  },
  {
   "cell_type": "markdown",
   "id": "4969c7ff",
   "metadata": {},
   "source": [
    "## Manipulating Data"
   ]
  },
  {
   "cell_type": "markdown",
   "id": "76236fa3",
   "metadata": {},
   "source": [
    "## Selecting columns"
   ]
  },
  {
   "cell_type": "code",
   "execution_count": 63,
   "id": "2389af81",
   "metadata": {},
   "outputs": [
    {
     "name": "stdout",
     "output_type": "stream",
     "text": [
      "+-------+----+\n",
      "|   Name| Age|\n",
      "+-------+----+\n",
      "|  Rohan|  22|\n",
      "|Pranjal|  23|\n",
      "|  Rushi|  22|\n",
      "|  Rohit|NULL|\n",
      "+-------+----+\n",
      "\n"
     ]
    }
   ],
   "source": [
    "select_columns = df.select(\"Name\", \"Age\")\n",
    "select_columns.show()"
   ]
  },
  {
   "cell_type": "markdown",
   "id": "1db26504",
   "metadata": {},
   "source": [
    "## Filtering Data"
   ]
  },
  {
   "cell_type": "code",
   "execution_count": 64,
   "id": "73e0601e",
   "metadata": {},
   "outputs": [
    {
     "name": "stdout",
     "output_type": "stream",
     "text": [
      "+-------+---+------+----------+------+\n",
      "|   Name|Age|Gender|    Degree|Salary|\n",
      "+-------+---+------+----------+------+\n",
      "|Pranjal| 23|Female|Mechanical| 20000|\n",
      "+-------+---+------+----------+------+\n",
      "\n"
     ]
    }
   ],
   "source": [
    "filtered_df = df.filter(df[\"Age\"] > 22)\n",
    "filtered_df.show()"
   ]
  },
  {
   "cell_type": "markdown",
   "id": "8fb3b15d",
   "metadata": {},
   "source": [
    "## Adding column"
   ]
  },
  {
   "cell_type": "code",
   "execution_count": 65,
   "id": "b6d21fc4",
   "metadata": {},
   "outputs": [
    {
     "name": "stdout",
     "output_type": "stream",
     "text": [
      "+-------+----+------+----------+------+-------+\n",
      "|   Name| Age|Gender|    Degree|Salary|Age+Two|\n",
      "+-------+----+------+----------+------+-------+\n",
      "|  Rohan|  22|  Male|        IT| 10000|     27|\n",
      "|Pranjal|  23|Female|Mechanical| 20000|     28|\n",
      "|  Rushi|  22|  Male|     Comps| 30000|     27|\n",
      "|  Rohit|NULL|  Male|       BBA| 40000|   NULL|\n",
      "+-------+----+------+----------+------+-------+\n",
      "\n"
     ]
    }
   ],
   "source": [
    "new_column = df.withColumn(\"Age+Two\", df[\"Age\"] + 5)\n",
    "new_column.show()"
   ]
  },
  {
   "cell_type": "markdown",
   "id": "211104bf",
   "metadata": {},
   "source": [
    "## Renaming column"
   ]
  },
  {
   "cell_type": "code",
   "execution_count": 66,
   "id": "36fae059",
   "metadata": {},
   "outputs": [
    {
     "name": "stdout",
     "output_type": "stream",
     "text": [
      "+-------+-----+------+----------+------+\n",
      "|   Name|Years|Gender|    Degree|Salary|\n",
      "+-------+-----+------+----------+------+\n",
      "|  Rohan|   22|  Male|        IT| 10000|\n",
      "|Pranjal|   23|Female|Mechanical| 20000|\n",
      "|  Rushi|   22|  Male|     Comps| 30000|\n",
      "|  Rohit| NULL|  Male|       BBA| 40000|\n",
      "+-------+-----+------+----------+------+\n",
      "\n"
     ]
    }
   ],
   "source": [
    "renamed_df = df.withColumnRenamed(\"Age\", \"Years\")\n",
    "renamed_df.show()\n"
   ]
  },
  {
   "cell_type": "markdown",
   "id": "f6f8218c",
   "metadata": {},
   "source": [
    "## Handling missing values"
   ]
  },
  {
   "cell_type": "code",
   "execution_count": 67,
   "id": "5d6ba78f",
   "metadata": {},
   "outputs": [
    {
     "name": "stdout",
     "output_type": "stream",
     "text": [
      "+-------+---+------+----------+------+\n",
      "|   Name|Age|Gender|    Degree|Salary|\n",
      "+-------+---+------+----------+------+\n",
      "|  Rohan| 22|  Male|        IT| 10000|\n",
      "|Pranjal| 23|Female|Mechanical| 20000|\n",
      "|  Rushi| 22|  Male|     Comps| 30000|\n",
      "|  Rohit|  0|  Male|       BBA| 40000|\n",
      "+-------+---+------+----------+------+\n",
      "\n"
     ]
    }
   ],
   "source": [
    "df_with_missing = df.fillna(0, subset=[\"Age\"])\n",
    "df_with_missing.show()"
   ]
  },
  {
   "cell_type": "markdown",
   "id": "e03c0c29",
   "metadata": {},
   "source": [
    "## Dropping"
   ]
  },
  {
   "cell_type": "code",
   "execution_count": 68,
   "id": "c85984df",
   "metadata": {},
   "outputs": [
    {
     "name": "stdout",
     "output_type": "stream",
     "text": [
      "+-------+----+------+----------+------+\n",
      "|   Name| Age|Gender|    Degree|Salary|\n",
      "+-------+----+------+----------+------+\n",
      "|  Rohan|  22|  Male|        IT| 10000|\n",
      "|Pranjal|  23|Female|Mechanical| 20000|\n",
      "|  Rushi|  22|  Male|     Comps| 30000|\n",
      "|  Rohit|NULL|  Male|       BBA| 40000|\n",
      "+-------+----+------+----------+------+\n",
      "\n"
     ]
    }
   ],
   "source": [
    "df1=df\n",
    "df1.show()"
   ]
  },
  {
   "cell_type": "markdown",
   "id": "d76296db",
   "metadata": {},
   "source": [
    "## Dropping Multiple column"
   ]
  },
  {
   "cell_type": "code",
   "execution_count": 69,
   "id": "4b7c1fda",
   "metadata": {},
   "outputs": [
    {
     "name": "stdout",
     "output_type": "stream",
     "text": [
      "+-------+----------+------+\n",
      "|   Name|    Degree|Salary|\n",
      "+-------+----------+------+\n",
      "|  Rohan|        IT| 10000|\n",
      "|Pranjal|Mechanical| 20000|\n",
      "|  Rushi|     Comps| 30000|\n",
      "|  Rohit|       BBA| 40000|\n",
      "+-------+----------+------+\n",
      "\n"
     ]
    }
   ],
   "source": [
    "columns_to_drop = [\"Age\", \"Gender\"]\n",
    "df_dropped_columns = df.drop(*columns_to_drop)\n",
    "df_dropped_columns.show()"
   ]
  },
  {
   "cell_type": "markdown",
   "id": "232b960d",
   "metadata": {},
   "source": [
    "## Drop Rows with Missing Values"
   ]
  },
  {
   "cell_type": "code",
   "execution_count": 70,
   "id": "c20fcadf",
   "metadata": {},
   "outputs": [
    {
     "name": "stdout",
     "output_type": "stream",
     "text": [
      "+-------+---+------+----------+------+\n",
      "|   Name|Age|Gender|    Degree|Salary|\n",
      "+-------+---+------+----------+------+\n",
      "|  Rohan| 22|  Male|        IT| 10000|\n",
      "|Pranjal| 23|Female|Mechanical| 20000|\n",
      "|  Rushi| 22|  Male|     Comps| 30000|\n",
      "+-------+---+------+----------+------+\n",
      "\n"
     ]
    }
   ],
   "source": [
    "df_with_missing=df.na.drop(how='any',thresh=None,subset=None)\n",
    "df_with_missing.show()"
   ]
  },
  {
   "cell_type": "markdown",
   "id": "837f64c3",
   "metadata": {},
   "source": [
    "## Dropping Duplicate"
   ]
  },
  {
   "cell_type": "code",
   "execution_count": 71,
   "id": "98e80494",
   "metadata": {},
   "outputs": [
    {
     "name": "stdout",
     "output_type": "stream",
     "text": [
      "+-------+----+------+----------+------+\n",
      "|   Name| Age|Gender|    Degree|Salary|\n",
      "+-------+----+------+----------+------+\n",
      "|  Rohan|  22|  Male|        IT| 10000|\n",
      "|Pranjal|  23|Female|Mechanical| 20000|\n",
      "|  Rushi|  22|  Male|     Comps| 30000|\n",
      "|  Rohit|NULL|  Male|       BBA| 40000|\n",
      "|  Rohan|  22|  Male|        IT| 10000|\n",
      "|Pranjal|  23|Female|Mechanical| 20000|\n",
      "|  Rushi|  22|  Male|     Comps| 30000|\n",
      "|  Rohit|NULL|  Male|       BBA| 40000|\n",
      "+-------+----+------+----------+------+\n",
      "\n",
      "+-------+----+------+----------+------+\n",
      "|   Name| Age|Gender|    Degree|Salary|\n",
      "+-------+----+------+----------+------+\n",
      "|  Rohan|  22|  Male|        IT| 10000|\n",
      "|Pranjal|  23|Female|Mechanical| 20000|\n",
      "|  Rushi|  22|  Male|     Comps| 30000|\n",
      "|  Rohit|NULL|  Male|       BBA| 40000|\n",
      "+-------+----+------+----------+------+\n",
      "\n"
     ]
    }
   ],
   "source": [
    "df_with_duplicates = df.union(df) \n",
    "df_dropped_duplicates = df_with_duplicates.dropDuplicates()\n",
    "df_with_duplicates.show()\n",
    "df_dropped_duplicates.show()\n"
   ]
  },
  {
   "cell_type": "markdown",
   "id": "dab0566e",
   "metadata": {},
   "source": [
    "## Aggregations"
   ]
  },
  {
   "cell_type": "code",
   "execution_count": 72,
   "id": "e37d7c95",
   "metadata": {},
   "outputs": [
    {
     "name": "stdout",
     "output_type": "stream",
     "text": [
      "+--------+\n",
      "|sum(Age)|\n",
      "+--------+\n",
      "|      67|\n",
      "+--------+\n",
      "\n"
     ]
    }
   ],
   "source": [
    "df.agg(({\"Age\":\"sum\"})).show()"
   ]
  },
  {
   "cell_type": "code",
   "execution_count": 73,
   "id": "82915b11",
   "metadata": {},
   "outputs": [
    {
     "name": "stdout",
     "output_type": "stream",
     "text": [
      "+------------------+\n",
      "|          avg(Age)|\n",
      "+------------------+\n",
      "|22.333333333333332|\n",
      "+------------------+\n",
      "\n"
     ]
    }
   ],
   "source": [
    "df.agg(({\"Age\":\"avg\"})).show()"
   ]
  },
  {
   "cell_type": "code",
   "execution_count": 74,
   "id": "165b7bd2",
   "metadata": {},
   "outputs": [
    {
     "name": "stdout",
     "output_type": "stream",
     "text": [
      "+-----------+\n",
      "|count(Name)|\n",
      "+-----------+\n",
      "|          4|\n",
      "+-----------+\n",
      "\n"
     ]
    }
   ],
   "source": [
    "df.agg({\"Name\":\"count\"}).show()"
   ]
  },
  {
   "cell_type": "markdown",
   "id": "719ae980",
   "metadata": {},
   "source": [
    "## Joining"
   ]
  },
  {
   "cell_type": "code",
   "execution_count": 75,
   "id": "44b658d2",
   "metadata": {},
   "outputs": [
    {
     "name": "stdout",
     "output_type": "stream",
     "text": [
      "+-------+-------+\n",
      "|   Name|Country|\n",
      "+-------+-------+\n",
      "|  Rohan|Jalgaon|\n",
      "|Pranjal| Mumbai|\n",
      "|  Rushi|   Pune|\n",
      "|  Rohit| Nashik|\n",
      "+-------+-------+\n",
      "\n"
     ]
    }
   ],
   "source": [
    "data1 = [(\"Rohan\",\"Jalgaon\"),\n",
    "        (\"Pranjal\",\"Mumbai\"),\n",
    "        (\"Rushi\",\"Pune\"),\n",
    "        (\"Rohit\",\"Nashik\")]\n",
    "\n",
    "schema1 = [\"Name\",\"Country\"]\n",
    "\n",
    "df1 = spark.createDataFrame(data1, schema=schema1)\n",
    "df1.show()"
   ]
  },
  {
   "cell_type": "markdown",
   "id": "c4628691",
   "metadata": {},
   "source": [
    "## Inner join"
   ]
  },
  {
   "cell_type": "code",
   "execution_count": 76,
   "id": "68f284eb",
   "metadata": {},
   "outputs": [
    {
     "name": "stdout",
     "output_type": "stream",
     "text": [
      "+-------+----+------+----------+------+-------+-------+\n",
      "|   Name| Age|Gender|    Degree|Salary|   Name|Country|\n",
      "+-------+----+------+----------+------+-------+-------+\n",
      "|Pranjal|  23|Female|Mechanical| 20000|Pranjal| Mumbai|\n",
      "|  Rohan|  22|  Male|        IT| 10000|  Rohan|Jalgaon|\n",
      "|  Rohit|NULL|  Male|       BBA| 40000|  Rohit| Nashik|\n",
      "|  Rushi|  22|  Male|     Comps| 30000|  Rushi|   Pune|\n",
      "+-------+----+------+----------+------+-------+-------+\n",
      "\n"
     ]
    }
   ],
   "source": [
    "df.join(df1,df.Name ==  df1.Name,\"inner\").show()"
   ]
  },
  {
   "cell_type": "markdown",
   "id": "06d1c4b2",
   "metadata": {},
   "source": [
    "## Left join"
   ]
  },
  {
   "cell_type": "code",
   "execution_count": 77,
   "id": "830cfecd",
   "metadata": {},
   "outputs": [
    {
     "name": "stdout",
     "output_type": "stream",
     "text": [
      "+-------+----+------+----------+------+-------+-------+\n",
      "|   Name| Age|Gender|    Degree|Salary|   Name|Country|\n",
      "+-------+----+------+----------+------+-------+-------+\n",
      "|  Rohan|  22|  Male|        IT| 10000|  Rohan|Jalgaon|\n",
      "|Pranjal|  23|Female|Mechanical| 20000|Pranjal| Mumbai|\n",
      "|  Rushi|  22|  Male|     Comps| 30000|  Rushi|   Pune|\n",
      "|  Rohit|NULL|  Male|       BBA| 40000|  Rohit| Nashik|\n",
      "+-------+----+------+----------+------+-------+-------+\n",
      "\n"
     ]
    }
   ],
   "source": [
    "df.join(df1,df.Name ==  df1.Name,\"left\").show()"
   ]
  },
  {
   "cell_type": "markdown",
   "id": "ff6408af",
   "metadata": {},
   "source": [
    "## Right join"
   ]
  },
  {
   "cell_type": "code",
   "execution_count": 78,
   "id": "668ffe0f",
   "metadata": {},
   "outputs": [
    {
     "name": "stdout",
     "output_type": "stream",
     "text": [
      "+-------+----+------+----------+------+-------+-------+\n",
      "|   Name| Age|Gender|    Degree|Salary|   Name|Country|\n",
      "+-------+----+------+----------+------+-------+-------+\n",
      "|  Rohan|  22|  Male|        IT| 10000|  Rohan|Jalgaon|\n",
      "|Pranjal|  23|Female|Mechanical| 20000|Pranjal| Mumbai|\n",
      "|  Rushi|  22|  Male|     Comps| 30000|  Rushi|   Pune|\n",
      "|  Rohit|NULL|  Male|       BBA| 40000|  Rohit| Nashik|\n",
      "+-------+----+------+----------+------+-------+-------+\n",
      "\n"
     ]
    }
   ],
   "source": [
    "df.join(df1,df.Name ==  df1.Name,\"right\").show()"
   ]
  },
  {
   "cell_type": "markdown",
   "id": "29376001",
   "metadata": {},
   "source": [
    "## Left semi join"
   ]
  },
  {
   "cell_type": "code",
   "execution_count": 79,
   "id": "0cc6a306",
   "metadata": {},
   "outputs": [
    {
     "name": "stdout",
     "output_type": "stream",
     "text": [
      "+-------+----+------+----------+------+\n",
      "|   Name| Age|Gender|    Degree|Salary|\n",
      "+-------+----+------+----------+------+\n",
      "|Pranjal|  23|Female|Mechanical| 20000|\n",
      "|  Rohan|  22|  Male|        IT| 10000|\n",
      "|  Rohit|NULL|  Male|       BBA| 40000|\n",
      "|  Rushi|  22|  Male|     Comps| 30000|\n",
      "+-------+----+------+----------+------+\n",
      "\n"
     ]
    }
   ],
   "source": [
    "df.join(df1,df.Name ==  df1.Name,\"left_semi\").show()"
   ]
  },
  {
   "cell_type": "markdown",
   "id": "9962ba60",
   "metadata": {},
   "source": [
    "## Left Anti Join"
   ]
  },
  {
   "cell_type": "code",
   "execution_count": 80,
   "id": "fa248e26",
   "metadata": {},
   "outputs": [
    {
     "name": "stdout",
     "output_type": "stream",
     "text": [
      "+----+---+------+------+------+\n",
      "|Name|Age|Gender|Degree|Salary|\n",
      "+----+---+------+------+------+\n",
      "+----+---+------+------+------+\n",
      "\n"
     ]
    }
   ],
   "source": [
    "df.join(df1,df.Name ==  df1.Name,\"left_anti\").show()"
   ]
  },
  {
   "cell_type": "markdown",
   "id": "a34b44d9",
   "metadata": {},
   "source": [
    "## Group by"
   ]
  },
  {
   "cell_type": "code",
   "execution_count": 84,
   "id": "162b4dae",
   "metadata": {},
   "outputs": [
    {
     "name": "stdout",
     "output_type": "stream",
     "text": [
      "+----+-----------+\n",
      "| Age|sum(Salary)|\n",
      "+----+-----------+\n",
      "|  22|      40000|\n",
      "|  23|      20000|\n",
      "|NULL|      40000|\n",
      "+----+-----------+\n",
      "\n",
      "+----+-----------+\n",
      "| Age|min(Salary)|\n",
      "+----+-----------+\n",
      "|  22|      10000|\n",
      "|  23|      20000|\n",
      "|NULL|      40000|\n",
      "+----+-----------+\n",
      "\n"
     ]
    }
   ],
   "source": [
    "df.groupBy('Age').sum('Salary').show()\n",
    "df.groupBy('Age').min('Salary').show()"
   ]
  },
  {
   "cell_type": "code",
   "execution_count": 85,
   "id": "bbd955b9",
   "metadata": {},
   "outputs": [
    {
     "name": "stdout",
     "output_type": "stream",
     "text": [
      "+----+-----------+\n",
      "| Age|max(Salary)|\n",
      "+----+-----------+\n",
      "|  22|      30000|\n",
      "|  23|      20000|\n",
      "|NULL|      40000|\n",
      "+----+-----------+\n",
      "\n",
      "+----+-----------+\n",
      "| Age|avg(Salary)|\n",
      "+----+-----------+\n",
      "|  22|    20000.0|\n",
      "|  23|    20000.0|\n",
      "|NULL|    40000.0|\n",
      "+----+-----------+\n",
      "\n"
     ]
    }
   ],
   "source": [
    "df.groupBy('Age').max('Salary').show()\n",
    "df.groupBy('Age').avg('Salary').show()"
   ]
  },
  {
   "cell_type": "markdown",
   "id": "bbfd30a2",
   "metadata": {},
   "source": [
    "## Pivot"
   ]
  },
  {
   "cell_type": "code",
   "execution_count": 86,
   "id": "bc22177e",
   "metadata": {},
   "outputs": [
    {
     "name": "stdout",
     "output_type": "stream",
     "text": [
      "+----+------+-----+\n",
      "| Age|Female| Male|\n",
      "+----+------+-----+\n",
      "|  22|  NULL|40000|\n",
      "|NULL|  NULL|40000|\n",
      "|  23| 20000| NULL|\n",
      "+----+------+-----+\n",
      "\n"
     ]
    }
   ],
   "source": [
    "df.groupBy(\"Age\").pivot(\"Gender\").sum(\"Salary\").show()"
   ]
  },
  {
   "cell_type": "code",
   "execution_count": null,
   "id": "71cfff2f",
   "metadata": {},
   "outputs": [],
   "source": []
  },
  {
   "cell_type": "markdown",
   "id": "af7a8847",
   "metadata": {},
   "source": [
    "## Question 2:Execute Pyspark -sparksql joins & Applying Functions in a Pandas DataFrame"
   ]
  },
  {
   "cell_type": "code",
   "execution_count": 87,
   "id": "f0195c8a",
   "metadata": {},
   "outputs": [],
   "source": [
    "# data for the first DataFrame\n",
    "data1 = [(\"Rohan\", 23, \"Male\"),\n",
    "         (\"kirti\", 26, \"Female\"),\n",
    "         (\"Rohit\", 22, \"Male\")]\n",
    "\n",
    "#data for the second DataFrame\n",
    "data2 = [(\"Rohan\", \"Engineering\"),\n",
    "         (\"kirti\", \"Marketing\"),\n",
    "         (\"Rohit\", \"Finance\")]\n",
    "\n",
    "schema1 = [\"Name\", \"Age\", \"Gender\"]\n",
    "schema2 = [\"Name\", \"Department\"]\n",
    "\n",
    "df1 = spark.createDataFrame(data1, schema=schema1)\n",
    "df2 = spark.createDataFrame(data2, schema=schema2)"
   ]
  },
  {
   "cell_type": "markdown",
   "id": "89a75b71",
   "metadata": {},
   "source": [
    "## Creating View"
   ]
  },
  {
   "cell_type": "code",
   "execution_count": 88,
   "id": "65bb1838",
   "metadata": {},
   "outputs": [],
   "source": [
    "# DataFrames as SQL tables\n",
    "df1.createOrReplaceTempView(\"table1\")\n",
    "df2.createOrReplaceTempView(\"table2\")"
   ]
  },
  {
   "cell_type": "markdown",
   "id": "2475837a",
   "metadata": {},
   "source": [
    "## Inner join"
   ]
  },
  {
   "cell_type": "code",
   "execution_count": 89,
   "id": "46679e45",
   "metadata": {},
   "outputs": [
    {
     "name": "stdout",
     "output_type": "stream",
     "text": [
      "+-----+---+------+-----+-----------+\n",
      "| Name|Age|Gender| Name| Department|\n",
      "+-----+---+------+-----+-----------+\n",
      "|Rohan| 23|  Male|Rohan|Engineering|\n",
      "|Rohit| 22|  Male|Rohit|    Finance|\n",
      "|kirti| 26|Female|kirti|  Marketing|\n",
      "+-----+---+------+-----+-----------+\n",
      "\n"
     ]
    }
   ],
   "source": [
    "spark.sql('SELECT * FROM table1 t1 INNER JOIN table2 t2 ON t1.Name=t2.Name').show()"
   ]
  },
  {
   "cell_type": "markdown",
   "id": "c26efcb1",
   "metadata": {},
   "source": [
    "## Left join"
   ]
  },
  {
   "cell_type": "code",
   "execution_count": 90,
   "id": "242fdf6f",
   "metadata": {},
   "outputs": [
    {
     "name": "stdout",
     "output_type": "stream",
     "text": [
      "+-----+---+------+-----+-----------+\n",
      "| Name|Age|Gender| Name| Department|\n",
      "+-----+---+------+-----+-----------+\n",
      "|Rohan| 23|  Male|Rohan|Engineering|\n",
      "|kirti| 26|Female|kirti|  Marketing|\n",
      "|Rohit| 22|  Male|Rohit|    Finance|\n",
      "+-----+---+------+-----+-----------+\n",
      "\n"
     ]
    }
   ],
   "source": [
    "spark.sql('SELECT * FROM table1 t1 LEFT JOIN table2 t2 ON t1.Name=t2.Name').show()"
   ]
  },
  {
   "cell_type": "markdown",
   "id": "79efa44e",
   "metadata": {},
   "source": [
    "## Right Join"
   ]
  },
  {
   "cell_type": "code",
   "execution_count": 91,
   "id": "0b534624",
   "metadata": {},
   "outputs": [
    {
     "name": "stdout",
     "output_type": "stream",
     "text": [
      "+-----+---+------+-----+-----------+\n",
      "| Name|Age|Gender| Name| Department|\n",
      "+-----+---+------+-----+-----------+\n",
      "|Rohan| 23|  Male|Rohan|Engineering|\n",
      "|kirti| 26|Female|kirti|  Marketing|\n",
      "|Rohit| 22|  Male|Rohit|    Finance|\n",
      "+-----+---+------+-----+-----------+\n",
      "\n"
     ]
    }
   ],
   "source": [
    "spark.sql('SELECT * FROM table1 t1 Right JOIN table2 t2 ON t1.Name=t2.Name').show()"
   ]
  },
  {
   "cell_type": "markdown",
   "id": "77e09390",
   "metadata": {},
   "source": [
    "## Cross join"
   ]
  },
  {
   "cell_type": "code",
   "execution_count": 92,
   "id": "2bf73548",
   "metadata": {},
   "outputs": [
    {
     "name": "stdout",
     "output_type": "stream",
     "text": [
      "+-----+---+------+-----+-----------+\n",
      "| Name|Age|Gender| Name| Department|\n",
      "+-----+---+------+-----+-----------+\n",
      "|Rohan| 23|  Male|Rohan|Engineering|\n",
      "|Rohit| 22|  Male|Rohit|    Finance|\n",
      "|kirti| 26|Female|kirti|  Marketing|\n",
      "+-----+---+------+-----+-----------+\n",
      "\n"
     ]
    }
   ],
   "source": [
    "spark.sql('SELECT * FROM table1 t1 CROSS JOIN table2 t2 ON t1.Name=t2.Name').show()"
   ]
  },
  {
   "cell_type": "markdown",
   "id": "e45b4375",
   "metadata": {},
   "source": [
    "## Function in Pandas DF"
   ]
  },
  {
   "cell_type": "code",
   "execution_count": 93,
   "id": "6419f61c",
   "metadata": {},
   "outputs": [
    {
     "data": {
      "text/html": [
       "<div>\n",
       "<style scoped>\n",
       "    .dataframe tbody tr th:only-of-type {\n",
       "        vertical-align: middle;\n",
       "    }\n",
       "\n",
       "    .dataframe tbody tr th {\n",
       "        vertical-align: top;\n",
       "    }\n",
       "\n",
       "    .dataframe thead th {\n",
       "        text-align: right;\n",
       "    }\n",
       "</style>\n",
       "<table border=\"1\" class=\"dataframe\">\n",
       "  <thead>\n",
       "    <tr style=\"text-align: right;\">\n",
       "      <th></th>\n",
       "      <th>PassengerId</th>\n",
       "      <th>Survived</th>\n",
       "      <th>Pclass</th>\n",
       "      <th>Name</th>\n",
       "      <th>Sex</th>\n",
       "      <th>Age</th>\n",
       "      <th>SibSp</th>\n",
       "      <th>Parch</th>\n",
       "      <th>Ticket</th>\n",
       "      <th>Fare</th>\n",
       "      <th>Cabin</th>\n",
       "      <th>Embarked</th>\n",
       "    </tr>\n",
       "  </thead>\n",
       "  <tbody>\n",
       "    <tr>\n",
       "      <th>0</th>\n",
       "      <td>1</td>\n",
       "      <td>0</td>\n",
       "      <td>3</td>\n",
       "      <td>Braund, Mr. Owen Harris</td>\n",
       "      <td>male</td>\n",
       "      <td>22.0</td>\n",
       "      <td>1</td>\n",
       "      <td>0</td>\n",
       "      <td>A/5 21171</td>\n",
       "      <td>7.2500</td>\n",
       "      <td>NaN</td>\n",
       "      <td>S</td>\n",
       "    </tr>\n",
       "    <tr>\n",
       "      <th>1</th>\n",
       "      <td>2</td>\n",
       "      <td>1</td>\n",
       "      <td>1</td>\n",
       "      <td>Cumings, Mrs. John Bradley (Florence Briggs Th...</td>\n",
       "      <td>female</td>\n",
       "      <td>38.0</td>\n",
       "      <td>1</td>\n",
       "      <td>0</td>\n",
       "      <td>PC 17599</td>\n",
       "      <td>71.2833</td>\n",
       "      <td>C85</td>\n",
       "      <td>C</td>\n",
       "    </tr>\n",
       "    <tr>\n",
       "      <th>2</th>\n",
       "      <td>3</td>\n",
       "      <td>1</td>\n",
       "      <td>3</td>\n",
       "      <td>Heikkinen, Miss. Laina</td>\n",
       "      <td>female</td>\n",
       "      <td>26.0</td>\n",
       "      <td>0</td>\n",
       "      <td>0</td>\n",
       "      <td>STON/O2. 3101282</td>\n",
       "      <td>7.9250</td>\n",
       "      <td>NaN</td>\n",
       "      <td>S</td>\n",
       "    </tr>\n",
       "    <tr>\n",
       "      <th>3</th>\n",
       "      <td>4</td>\n",
       "      <td>1</td>\n",
       "      <td>1</td>\n",
       "      <td>Futrelle, Mrs. Jacques Heath (Lily May Peel)</td>\n",
       "      <td>female</td>\n",
       "      <td>35.0</td>\n",
       "      <td>1</td>\n",
       "      <td>0</td>\n",
       "      <td>113803</td>\n",
       "      <td>53.1000</td>\n",
       "      <td>C123</td>\n",
       "      <td>S</td>\n",
       "    </tr>\n",
       "    <tr>\n",
       "      <th>4</th>\n",
       "      <td>5</td>\n",
       "      <td>0</td>\n",
       "      <td>3</td>\n",
       "      <td>Allen, Mr. William Henry</td>\n",
       "      <td>male</td>\n",
       "      <td>35.0</td>\n",
       "      <td>0</td>\n",
       "      <td>0</td>\n",
       "      <td>373450</td>\n",
       "      <td>8.0500</td>\n",
       "      <td>NaN</td>\n",
       "      <td>S</td>\n",
       "    </tr>\n",
       "    <tr>\n",
       "      <th>...</th>\n",
       "      <td>...</td>\n",
       "      <td>...</td>\n",
       "      <td>...</td>\n",
       "      <td>...</td>\n",
       "      <td>...</td>\n",
       "      <td>...</td>\n",
       "      <td>...</td>\n",
       "      <td>...</td>\n",
       "      <td>...</td>\n",
       "      <td>...</td>\n",
       "      <td>...</td>\n",
       "      <td>...</td>\n",
       "    </tr>\n",
       "    <tr>\n",
       "      <th>886</th>\n",
       "      <td>887</td>\n",
       "      <td>0</td>\n",
       "      <td>2</td>\n",
       "      <td>Montvila, Rev. Juozas</td>\n",
       "      <td>male</td>\n",
       "      <td>27.0</td>\n",
       "      <td>0</td>\n",
       "      <td>0</td>\n",
       "      <td>211536</td>\n",
       "      <td>13.0000</td>\n",
       "      <td>NaN</td>\n",
       "      <td>S</td>\n",
       "    </tr>\n",
       "    <tr>\n",
       "      <th>887</th>\n",
       "      <td>888</td>\n",
       "      <td>1</td>\n",
       "      <td>1</td>\n",
       "      <td>Graham, Miss. Margaret Edith</td>\n",
       "      <td>female</td>\n",
       "      <td>19.0</td>\n",
       "      <td>0</td>\n",
       "      <td>0</td>\n",
       "      <td>112053</td>\n",
       "      <td>30.0000</td>\n",
       "      <td>B42</td>\n",
       "      <td>S</td>\n",
       "    </tr>\n",
       "    <tr>\n",
       "      <th>888</th>\n",
       "      <td>889</td>\n",
       "      <td>0</td>\n",
       "      <td>3</td>\n",
       "      <td>Johnston, Miss. Catherine Helen \"Carrie\"</td>\n",
       "      <td>female</td>\n",
       "      <td>NaN</td>\n",
       "      <td>1</td>\n",
       "      <td>2</td>\n",
       "      <td>W./C. 6607</td>\n",
       "      <td>23.4500</td>\n",
       "      <td>NaN</td>\n",
       "      <td>S</td>\n",
       "    </tr>\n",
       "    <tr>\n",
       "      <th>889</th>\n",
       "      <td>890</td>\n",
       "      <td>1</td>\n",
       "      <td>1</td>\n",
       "      <td>Behr, Mr. Karl Howell</td>\n",
       "      <td>male</td>\n",
       "      <td>26.0</td>\n",
       "      <td>0</td>\n",
       "      <td>0</td>\n",
       "      <td>111369</td>\n",
       "      <td>30.0000</td>\n",
       "      <td>C148</td>\n",
       "      <td>C</td>\n",
       "    </tr>\n",
       "    <tr>\n",
       "      <th>890</th>\n",
       "      <td>891</td>\n",
       "      <td>0</td>\n",
       "      <td>3</td>\n",
       "      <td>Dooley, Mr. Patrick</td>\n",
       "      <td>male</td>\n",
       "      <td>32.0</td>\n",
       "      <td>0</td>\n",
       "      <td>0</td>\n",
       "      <td>370376</td>\n",
       "      <td>7.7500</td>\n",
       "      <td>NaN</td>\n",
       "      <td>Q</td>\n",
       "    </tr>\n",
       "  </tbody>\n",
       "</table>\n",
       "<p>891 rows × 12 columns</p>\n",
       "</div>"
      ],
      "text/plain": [
       "     PassengerId  Survived  Pclass  \\\n",
       "0              1         0       3   \n",
       "1              2         1       1   \n",
       "2              3         1       3   \n",
       "3              4         1       1   \n",
       "4              5         0       3   \n",
       "..           ...       ...     ...   \n",
       "886          887         0       2   \n",
       "887          888         1       1   \n",
       "888          889         0       3   \n",
       "889          890         1       1   \n",
       "890          891         0       3   \n",
       "\n",
       "                                                  Name     Sex   Age  SibSp  \\\n",
       "0                              Braund, Mr. Owen Harris    male  22.0      1   \n",
       "1    Cumings, Mrs. John Bradley (Florence Briggs Th...  female  38.0      1   \n",
       "2                               Heikkinen, Miss. Laina  female  26.0      0   \n",
       "3         Futrelle, Mrs. Jacques Heath (Lily May Peel)  female  35.0      1   \n",
       "4                             Allen, Mr. William Henry    male  35.0      0   \n",
       "..                                                 ...     ...   ...    ...   \n",
       "886                              Montvila, Rev. Juozas    male  27.0      0   \n",
       "887                       Graham, Miss. Margaret Edith  female  19.0      0   \n",
       "888           Johnston, Miss. Catherine Helen \"Carrie\"  female   NaN      1   \n",
       "889                              Behr, Mr. Karl Howell    male  26.0      0   \n",
       "890                                Dooley, Mr. Patrick    male  32.0      0   \n",
       "\n",
       "     Parch            Ticket     Fare Cabin Embarked  \n",
       "0        0         A/5 21171   7.2500   NaN        S  \n",
       "1        0          PC 17599  71.2833   C85        C  \n",
       "2        0  STON/O2. 3101282   7.9250   NaN        S  \n",
       "3        0            113803  53.1000  C123        S  \n",
       "4        0            373450   8.0500   NaN        S  \n",
       "..     ...               ...      ...   ...      ...  \n",
       "886      0            211536  13.0000   NaN        S  \n",
       "887      0            112053  30.0000   B42        S  \n",
       "888      2        W./C. 6607  23.4500   NaN        S  \n",
       "889      0            111369  30.0000  C148        C  \n",
       "890      0            370376   7.7500   NaN        Q  \n",
       "\n",
       "[891 rows x 12 columns]"
      ]
     },
     "execution_count": 93,
     "metadata": {},
     "output_type": "execute_result"
    }
   ],
   "source": [
    "import pandas as pd\n",
    "\n",
    "# Create a Pandas DataFrame\n",
    "df = pd.read_csv('D:\\Hexaware\\Data_Engineering\\Python\\output_file.csv')\n",
    "df"
   ]
  },
  {
   "cell_type": "markdown",
   "id": "50d7bf7e",
   "metadata": {},
   "source": [
    "## Function"
   ]
  },
  {
   "cell_type": "code",
   "execution_count": 97,
   "id": "24d7321e",
   "metadata": {},
   "outputs": [
    {
     "data": {
      "text/html": [
       "<div>\n",
       "<style scoped>\n",
       "    .dataframe tbody tr th:only-of-type {\n",
       "        vertical-align: middle;\n",
       "    }\n",
       "\n",
       "    .dataframe tbody tr th {\n",
       "        vertical-align: top;\n",
       "    }\n",
       "\n",
       "    .dataframe thead th {\n",
       "        text-align: right;\n",
       "    }\n",
       "</style>\n",
       "<table border=\"1\" class=\"dataframe\">\n",
       "  <thead>\n",
       "    <tr style=\"text-align: right;\">\n",
       "      <th></th>\n",
       "      <th>PassengerId</th>\n",
       "      <th>Survived</th>\n",
       "      <th>Pclass</th>\n",
       "      <th>Name</th>\n",
       "      <th>Sex</th>\n",
       "      <th>Age</th>\n",
       "      <th>SibSp</th>\n",
       "      <th>Parch</th>\n",
       "      <th>Ticket</th>\n",
       "      <th>Fare</th>\n",
       "      <th>Cabin</th>\n",
       "      <th>Embarked</th>\n",
       "      <th>Alive</th>\n",
       "    </tr>\n",
       "  </thead>\n",
       "  <tbody>\n",
       "    <tr>\n",
       "      <th>0</th>\n",
       "      <td>1</td>\n",
       "      <td>0</td>\n",
       "      <td>3</td>\n",
       "      <td>Braund, Mr. Owen Harris</td>\n",
       "      <td>male</td>\n",
       "      <td>22.0</td>\n",
       "      <td>1</td>\n",
       "      <td>0</td>\n",
       "      <td>A/5 21171</td>\n",
       "      <td>7.2500</td>\n",
       "      <td>NaN</td>\n",
       "      <td>S</td>\n",
       "      <td>Not alive</td>\n",
       "    </tr>\n",
       "    <tr>\n",
       "      <th>1</th>\n",
       "      <td>2</td>\n",
       "      <td>1</td>\n",
       "      <td>1</td>\n",
       "      <td>Cumings, Mrs. John Bradley (Florence Briggs Th...</td>\n",
       "      <td>female</td>\n",
       "      <td>38.0</td>\n",
       "      <td>1</td>\n",
       "      <td>0</td>\n",
       "      <td>PC 17599</td>\n",
       "      <td>71.2833</td>\n",
       "      <td>C85</td>\n",
       "      <td>C</td>\n",
       "      <td>alive</td>\n",
       "    </tr>\n",
       "    <tr>\n",
       "      <th>2</th>\n",
       "      <td>3</td>\n",
       "      <td>1</td>\n",
       "      <td>3</td>\n",
       "      <td>Heikkinen, Miss. Laina</td>\n",
       "      <td>female</td>\n",
       "      <td>26.0</td>\n",
       "      <td>0</td>\n",
       "      <td>0</td>\n",
       "      <td>STON/O2. 3101282</td>\n",
       "      <td>7.9250</td>\n",
       "      <td>NaN</td>\n",
       "      <td>S</td>\n",
       "      <td>alive</td>\n",
       "    </tr>\n",
       "    <tr>\n",
       "      <th>3</th>\n",
       "      <td>4</td>\n",
       "      <td>1</td>\n",
       "      <td>1</td>\n",
       "      <td>Futrelle, Mrs. Jacques Heath (Lily May Peel)</td>\n",
       "      <td>female</td>\n",
       "      <td>35.0</td>\n",
       "      <td>1</td>\n",
       "      <td>0</td>\n",
       "      <td>113803</td>\n",
       "      <td>53.1000</td>\n",
       "      <td>C123</td>\n",
       "      <td>S</td>\n",
       "      <td>alive</td>\n",
       "    </tr>\n",
       "    <tr>\n",
       "      <th>4</th>\n",
       "      <td>5</td>\n",
       "      <td>0</td>\n",
       "      <td>3</td>\n",
       "      <td>Allen, Mr. William Henry</td>\n",
       "      <td>male</td>\n",
       "      <td>35.0</td>\n",
       "      <td>0</td>\n",
       "      <td>0</td>\n",
       "      <td>373450</td>\n",
       "      <td>8.0500</td>\n",
       "      <td>NaN</td>\n",
       "      <td>S</td>\n",
       "      <td>Not alive</td>\n",
       "    </tr>\n",
       "    <tr>\n",
       "      <th>5</th>\n",
       "      <td>6</td>\n",
       "      <td>0</td>\n",
       "      <td>3</td>\n",
       "      <td>Moran, Mr. James</td>\n",
       "      <td>male</td>\n",
       "      <td>NaN</td>\n",
       "      <td>0</td>\n",
       "      <td>0</td>\n",
       "      <td>330877</td>\n",
       "      <td>8.4583</td>\n",
       "      <td>NaN</td>\n",
       "      <td>Q</td>\n",
       "      <td>Not alive</td>\n",
       "    </tr>\n",
       "    <tr>\n",
       "      <th>6</th>\n",
       "      <td>7</td>\n",
       "      <td>0</td>\n",
       "      <td>1</td>\n",
       "      <td>McCarthy, Mr. Timothy J</td>\n",
       "      <td>male</td>\n",
       "      <td>54.0</td>\n",
       "      <td>0</td>\n",
       "      <td>0</td>\n",
       "      <td>17463</td>\n",
       "      <td>51.8625</td>\n",
       "      <td>E46</td>\n",
       "      <td>S</td>\n",
       "      <td>Not alive</td>\n",
       "    </tr>\n",
       "  </tbody>\n",
       "</table>\n",
       "</div>"
      ],
      "text/plain": [
       "   PassengerId  Survived  Pclass  \\\n",
       "0            1         0       3   \n",
       "1            2         1       1   \n",
       "2            3         1       3   \n",
       "3            4         1       1   \n",
       "4            5         0       3   \n",
       "5            6         0       3   \n",
       "6            7         0       1   \n",
       "\n",
       "                                                Name     Sex   Age  SibSp  \\\n",
       "0                            Braund, Mr. Owen Harris    male  22.0      1   \n",
       "1  Cumings, Mrs. John Bradley (Florence Briggs Th...  female  38.0      1   \n",
       "2                             Heikkinen, Miss. Laina  female  26.0      0   \n",
       "3       Futrelle, Mrs. Jacques Heath (Lily May Peel)  female  35.0      1   \n",
       "4                           Allen, Mr. William Henry    male  35.0      0   \n",
       "5                                   Moran, Mr. James    male   NaN      0   \n",
       "6                            McCarthy, Mr. Timothy J    male  54.0      0   \n",
       "\n",
       "   Parch            Ticket     Fare Cabin Embarked      Alive  \n",
       "0      0         A/5 21171   7.2500   NaN        S  Not alive  \n",
       "1      0          PC 17599  71.2833   C85        C      alive  \n",
       "2      0  STON/O2. 3101282   7.9250   NaN        S      alive  \n",
       "3      0            113803  53.1000  C123        S      alive  \n",
       "4      0            373450   8.0500   NaN        S  Not alive  \n",
       "5      0            330877   8.4583   NaN        Q  Not alive  \n",
       "6      0             17463  51.8625   E46        S  Not alive  "
      ]
     },
     "execution_count": 97,
     "metadata": {},
     "output_type": "execute_result"
    }
   ],
   "source": [
    "def alive(row):\n",
    "    if row[\"Survived\"] == 0:\n",
    "        return \"Not alive\"\n",
    "    else:\n",
    "        return \"alive\"\n",
    "\n",
    "# Apply the custom function to a new column\n",
    "df[\"Alive\"] = df.apply(alive, axis=1)\n",
    "\n",
    "# Show the modified DataFrame\n",
    "df.head(7)"
   ]
  },
  {
   "cell_type": "code",
   "execution_count": null,
   "id": "4e30ec0c",
   "metadata": {},
   "outputs": [],
   "source": []
  }
 ],
 "metadata": {
  "kernelspec": {
   "display_name": "Python 3 (ipykernel)",
   "language": "python",
   "name": "python3"
  },
  "language_info": {
   "codemirror_mode": {
    "name": "ipython",
    "version": 3
   },
   "file_extension": ".py",
   "mimetype": "text/x-python",
   "name": "python",
   "nbconvert_exporter": "python",
   "pygments_lexer": "ipython3",
   "version": "3.11.5"
  }
 },
 "nbformat": 4,
 "nbformat_minor": 5
}
